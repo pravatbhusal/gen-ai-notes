{
 "cells": [
  {
   "cell_type": "markdown",
   "metadata": {
    "vscode": {
     "languageId": "shellscript"
    }
   },
   "source": [
    "### Basic ChatCompletion API\n",
    "The purpsoe of the completion API is to provide a response to complete a prompt. For more information, see docs: https://platform.openai.com/docs/api-reference/chat/create\n",
    "\n",
    "Let's call the ChatCompletion API using gpt-3.5-turbo. "
   ]
  },
  {
   "cell_type": "code",
   "execution_count": null,
   "metadata": {
    "vscode": {
     "languageId": "shellscript"
    }
   },
   "outputs": [],
   "source": [
    "pip install openai && pip install python-dotenv"
   ]
  },
  {
   "cell_type": "code",
   "execution_count": 3,
   "metadata": {},
   "outputs": [],
   "source": [
    "from openai import OpenAI\n",
    "from dotenv import dotenv_values"
   ]
  },
  {
   "cell_type": "code",
   "execution_count": 4,
   "metadata": {},
   "outputs": [],
   "source": [
    "# Set the Open API key from the .env file\n",
    "config = dotenv_values(\".env\")\n",
    "client = OpenAI(\n",
    "  api_key=config[\"OPEN_API_KEY\"]\n",
    ")"
   ]
  },
  {
   "cell_type": "code",
   "execution_count": 35,
   "metadata": {},
   "outputs": [],
   "source": [
    "# Create a completion model using gpt-3.5-turbo\n",
    "completion = client.chat.completions.create(\n",
    "  model=\"gpt-3.5-turbo\",\n",
    "  messages=[\n",
    "    { \"role\": \"user\", \"content\": \"The dog says \" } # role = \"user\" means you or who is chatting or who is asking the question\n",
    "  ],\n",
    ")"
   ]
  },
  {
   "cell_type": "code",
   "execution_count": 39,
   "metadata": {},
   "outputs": [
    {
     "name": "stdout",
     "output_type": "stream",
     "text": [
      "ChatCompletion(id='chatcmpl-9vBVSY2lkCyj5gxp7fyc3P71pmn4B', choices=[Choice(finish_reason='stop', index=0, logprobs=None, message=ChatCompletionMessage(content='\"woof\"', refusal=None, role='assistant', function_call=None, tool_calls=None))], created=1723415954, model='gpt-3.5-turbo-0125', object='chat.completion', service_tier=None, system_fingerprint=None, usage=CompletionUsage(completion_tokens=4, prompt_tokens=11, total_tokens=15))\n"
     ]
    }
   ],
   "source": [
    "print(completion)"
   ]
  },
  {
   "cell_type": "markdown",
   "metadata": {},
   "source": [
    "### Analysis of ChatCompletion API\n",
    "The result from the prompt \"The dog says \" was \"woof\" from the gpt-3.5-turbo (defaulted to gpt-3.5-turbo-0125) model. If you check your OpenAI API usage, you'll see the billing usage of the API.\n",
    "\n",
    "As of today (08/11/2024), the pricing for gpt-3.5-turbo-0125 is `$0.50 / 1M tokens` for input and `$1.50 / 1M tokens` for output.\n",
    "\n",
    "See billing usage in the website https://platform.openai.com/organization/usage."
   ]
  },
  {
   "cell_type": "markdown",
   "metadata": {},
   "source": [
    "### max_tokens parameter\n",
    "The max_tokens parameter specifies the maximum number of tokens in the response. For more information about tokens, read the Tokens.md file."
   ]
  },
  {
   "cell_type": "code",
   "execution_count": 7,
   "metadata": {},
   "outputs": [],
   "source": [
    "# Text completion uses max_tokens of 16 in the response\n",
    "# See docs: https://platform.openai.com/docs/api-reference/completions/create#completions-create-max_tokens\n",
    "completion = client.chat.completions.create(\n",
    "  model=\"gpt-3.5-turbo\",\n",
    "  messages=[\n",
    "    { \"role\": \"user\", \"content\": \"The top 10 places to visit are: \" }\n",
    "  ],\n",
    "  max_tokens=16\n",
    ")"
   ]
  },
  {
   "cell_type": "code",
   "execution_count": 8,
   "metadata": {},
   "outputs": [
    {
     "name": "stdout",
     "output_type": "stream",
     "text": [
      "ChatCompletion(id='chatcmpl-9vBxl7G2L4swedDyFOmMQcFa3soj5', choices=[Choice(finish_reason='length', index=0, logprobs=None, message=ChatCompletionMessage(content='1. The Grand Canyon, Arizona, USA\\n2. Machu Picchu', refusal=None, role='assistant', function_call=None, tool_calls=None))], created=1723417709, model='gpt-3.5-turbo-0125', object='chat.completion', service_tier=None, system_fingerprint=None, usage=CompletionUsage(completion_tokens=16, prompt_tokens=17, total_tokens=33))\n"
     ]
    }
   ],
   "source": [
    "print(completion)"
   ]
  },
  {
   "cell_type": "markdown",
   "metadata": {},
   "source": [
    "### Analysis of max_tokens\n",
    "We asked the model to predict the top 10 places to visit, but it only gave us 2 places. This is because we set the `max_tokens=16` in the completions API request, so the model stopped prematurely with a `finish_reason` of 'length'."
   ]
  },
  {
   "cell_type": "markdown",
   "metadata": {},
   "source": []
  }
 ],
 "metadata": {
  "kernelspec": {
   "display_name": "Python 3",
   "language": "python",
   "name": "python3"
  },
  "language_info": {
   "codemirror_mode": {
    "name": "ipython",
    "version": 3
   },
   "file_extension": ".py",
   "mimetype": "text/x-python",
   "name": "python",
   "nbconvert_exporter": "python",
   "pygments_lexer": "ipython3",
   "version": "3.12.4"
  }
 },
 "nbformat": 4,
 "nbformat_minor": 2
}
