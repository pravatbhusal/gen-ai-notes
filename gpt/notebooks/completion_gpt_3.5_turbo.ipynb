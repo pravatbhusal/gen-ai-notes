{
 "cells": [
  {
   "cell_type": "markdown",
   "metadata": {
    "vscode": {
     "languageId": "shellscript"
    }
   },
   "source": [
    "### Basic ChatCompletion API\n",
    "The purpose of the completion API is to provide a response to complete a prompt. \n",
    "\n",
    "See docs: https://platform.openai.com/docs/api-reference/chat/create\n",
    "\n",
    "Let's call the ChatCompletion API using gpt-3.5-turbo. "
   ]
  },
  {
   "cell_type": "code",
   "execution_count": 1,
   "metadata": {
    "vscode": {
     "languageId": "shellscript"
    }
   },
   "outputs": [
    {
     "name": "stdout",
     "output_type": "stream",
     "text": [
      "Requirement already satisfied: openai in /Users/pravatbhusal/.pyenv/versions/3.12.4/lib/python3.12/site-packages (1.40.3)\n",
      "Requirement already satisfied: anyio<5,>=3.5.0 in /Users/pravatbhusal/.pyenv/versions/3.12.4/lib/python3.12/site-packages (from openai) (4.4.0)\n",
      "Requirement already satisfied: distro<2,>=1.7.0 in /Users/pravatbhusal/.pyenv/versions/3.12.4/lib/python3.12/site-packages (from openai) (1.9.0)\n",
      "Requirement already satisfied: httpx<1,>=0.23.0 in /Users/pravatbhusal/.pyenv/versions/3.12.4/lib/python3.12/site-packages (from openai) (0.27.0)\n",
      "Requirement already satisfied: jiter<1,>=0.4.0 in /Users/pravatbhusal/.pyenv/versions/3.12.4/lib/python3.12/site-packages (from openai) (0.5.0)\n",
      "Requirement already satisfied: pydantic<3,>=1.9.0 in /Users/pravatbhusal/.pyenv/versions/3.12.4/lib/python3.12/site-packages (from openai) (2.8.2)\n",
      "Requirement already satisfied: sniffio in /Users/pravatbhusal/.pyenv/versions/3.12.4/lib/python3.12/site-packages (from openai) (1.3.1)\n",
      "Requirement already satisfied: tqdm>4 in /Users/pravatbhusal/.pyenv/versions/3.12.4/lib/python3.12/site-packages (from openai) (4.66.5)\n",
      "Requirement already satisfied: typing-extensions<5,>=4.11 in /Users/pravatbhusal/.pyenv/versions/3.12.4/lib/python3.12/site-packages (from openai) (4.12.2)\n",
      "Requirement already satisfied: idna>=2.8 in /Users/pravatbhusal/.pyenv/versions/3.12.4/lib/python3.12/site-packages (from anyio<5,>=3.5.0->openai) (3.7)\n",
      "Requirement already satisfied: certifi in /Users/pravatbhusal/.pyenv/versions/3.12.4/lib/python3.12/site-packages (from httpx<1,>=0.23.0->openai) (2024.7.4)\n",
      "Requirement already satisfied: httpcore==1.* in /Users/pravatbhusal/.pyenv/versions/3.12.4/lib/python3.12/site-packages (from httpx<1,>=0.23.0->openai) (1.0.5)\n",
      "Requirement already satisfied: h11<0.15,>=0.13 in /Users/pravatbhusal/.pyenv/versions/3.12.4/lib/python3.12/site-packages (from httpcore==1.*->httpx<1,>=0.23.0->openai) (0.14.0)\n",
      "Requirement already satisfied: annotated-types>=0.4.0 in /Users/pravatbhusal/.pyenv/versions/3.12.4/lib/python3.12/site-packages (from pydantic<3,>=1.9.0->openai) (0.7.0)\n",
      "Requirement already satisfied: pydantic-core==2.20.1 in /Users/pravatbhusal/.pyenv/versions/3.12.4/lib/python3.12/site-packages (from pydantic<3,>=1.9.0->openai) (2.20.1)\n",
      "\n",
      "\u001b[1m[\u001b[0m\u001b[34;49mnotice\u001b[0m\u001b[1;39;49m]\u001b[0m\u001b[39;49m A new release of pip is available: \u001b[0m\u001b[31;49m24.0\u001b[0m\u001b[39;49m -> \u001b[0m\u001b[32;49m24.2\u001b[0m\n",
      "\u001b[1m[\u001b[0m\u001b[34;49mnotice\u001b[0m\u001b[1;39;49m]\u001b[0m\u001b[39;49m To update, run: \u001b[0m\u001b[32;49mpip install --upgrade pip\u001b[0m\n",
      "Requirement already satisfied: python-dotenv in /Users/pravatbhusal/.pyenv/versions/3.12.4/lib/python3.12/site-packages (1.0.1)\n",
      "\n",
      "\u001b[1m[\u001b[0m\u001b[34;49mnotice\u001b[0m\u001b[1;39;49m]\u001b[0m\u001b[39;49m A new release of pip is available: \u001b[0m\u001b[31;49m24.0\u001b[0m\u001b[39;49m -> \u001b[0m\u001b[32;49m24.2\u001b[0m\n",
      "\u001b[1m[\u001b[0m\u001b[34;49mnotice\u001b[0m\u001b[1;39;49m]\u001b[0m\u001b[39;49m To update, run: \u001b[0m\u001b[32;49mpip install --upgrade pip\u001b[0m\n",
      "Note: you may need to restart the kernel to use updated packages.\n"
     ]
    }
   ],
   "source": [
    "pip install openai && pip install python-dotenv"
   ]
  },
  {
   "cell_type": "code",
   "execution_count": 2,
   "metadata": {},
   "outputs": [],
   "source": [
    "from openai import OpenAI\n",
    "from dotenv import dotenv_values"
   ]
  },
  {
   "cell_type": "code",
   "execution_count": 3,
   "metadata": {},
   "outputs": [],
   "source": [
    "# Set the Open API key from the .env file\n",
    "config = dotenv_values(\".env\")\n",
    "client = OpenAI(\n",
    "  api_key=config[\"OPEN_API_KEY\"]\n",
    ")"
   ]
  },
  {
   "cell_type": "code",
   "execution_count": 35,
   "metadata": {},
   "outputs": [],
   "source": [
    "# Create a completion model using gpt-3.5-turbo\n",
    "completion = client.chat.completions.create(\n",
    "  model=\"gpt-3.5-turbo\",\n",
    "  messages=[\n",
    "    { \"role\": \"user\", \"content\": \"The dog says \" } # role = \"user\" means you or who is chatting or who is asking the question\n",
    "  ],\n",
    ")"
   ]
  },
  {
   "cell_type": "code",
   "execution_count": 39,
   "metadata": {},
   "outputs": [
    {
     "name": "stdout",
     "output_type": "stream",
     "text": [
      "ChatCompletion(id='chatcmpl-9vBVSY2lkCyj5gxp7fyc3P71pmn4B', choices=[Choice(finish_reason='stop', index=0, logprobs=None, message=ChatCompletionMessage(content='\"woof\"', refusal=None, role='assistant', function_call=None, tool_calls=None))], created=1723415954, model='gpt-3.5-turbo-0125', object='chat.completion', service_tier=None, system_fingerprint=None, usage=CompletionUsage(completion_tokens=4, prompt_tokens=11, total_tokens=15))\n"
     ]
    }
   ],
   "source": [
    "print(completion)"
   ]
  },
  {
   "cell_type": "markdown",
   "metadata": {},
   "source": [
    "### Analysis of ChatCompletion API\n",
    "The result from the prompt \"The dog says \" was \"woof\" from the gpt-3.5-turbo (defaulted to gpt-3.5-turbo-0125) model. If you check your OpenAI API usage, you'll see the billing usage of the API.\n",
    "\n",
    "As of today (08/11/2024), the pricing for gpt-3.5-turbo-0125 is `$0.50 / 1M tokens` for input and `$1.50 / 1M tokens` for output.\n",
    "\n",
    "See billing usage in the website https://platform.openai.com/organization/usage."
   ]
  },
  {
   "cell_type": "markdown",
   "metadata": {},
   "source": [
    "### max_tokens parameter\n",
    "The max_tokens parameter specifies the maximum number of tokens in the response. For more information about tokens, read the Tokens.md file.\n",
    "\n",
    "See docs about max_tokens: https://platform.openai.com/docs/api-reference/completions/create#completions-create-max_tokens"
   ]
  },
  {
   "cell_type": "code",
   "execution_count": 7,
   "metadata": {},
   "outputs": [],
   "source": [
    "# Text completion uses max_tokens of 16 in the response\n",
    "completion = client.chat.completions.create(\n",
    "  model=\"gpt-3.5-turbo\",\n",
    "  messages=[\n",
    "    { \"role\": \"user\", \"content\": \"The top 10 places to visit are: \" }\n",
    "  ],\n",
    "  max_tokens=16\n",
    ")"
   ]
  },
  {
   "cell_type": "code",
   "execution_count": 8,
   "metadata": {},
   "outputs": [
    {
     "name": "stdout",
     "output_type": "stream",
     "text": [
      "ChatCompletion(id='chatcmpl-9vBxl7G2L4swedDyFOmMQcFa3soj5', choices=[Choice(finish_reason='length', index=0, logprobs=None, message=ChatCompletionMessage(content='1. The Grand Canyon, Arizona, USA\\n2. Machu Picchu', refusal=None, role='assistant', function_call=None, tool_calls=None))], created=1723417709, model='gpt-3.5-turbo-0125', object='chat.completion', service_tier=None, system_fingerprint=None, usage=CompletionUsage(completion_tokens=16, prompt_tokens=17, total_tokens=33))\n"
     ]
    }
   ],
   "source": [
    "print(completion)"
   ]
  },
  {
   "cell_type": "markdown",
   "metadata": {},
   "source": [
    "### Analysis of max_tokens\n",
    "We asked the model to predict the top 10 places to visit, but it only gave us 2 places. This is because we set the `max_tokens=16` in the completions API request, so the model stopped prematurely with a `finish_reason` of 'length'."
   ]
  },
  {
   "cell_type": "markdown",
   "metadata": {},
   "source": [
    "### Stop sequence\n",
    "Stop sequences are useful to stop the model from generating text after a specific word or phrase.\n",
    "\n",
    "See docs about stop sequences: https://platform.openai.com/docs/api-reference/completions/create#completions-create-stop"
   ]
  },
  {
   "cell_type": "code",
   "execution_count": 4,
   "metadata": {},
   "outputs": [],
   "source": [
    "# Text completion with stop sequencing of \"5.\"\n",
    "completion = client.chat.completions.create(\n",
    "  model=\"gpt-3.5-turbo\",\n",
    "  messages=[\n",
    "    { \"role\": \"user\", \"content\": \"The top 10 places to visit are: \" }\n",
    "  ],\n",
    "  stop=\"5.\",\n",
    ")"
   ]
  },
  {
   "cell_type": "code",
   "execution_count": 6,
   "metadata": {},
   "outputs": [
    {
     "name": "stdout",
     "output_type": "stream",
     "text": [
      "ChatCompletion(id='chatcmpl-9xdYzThYuxFgNYpreL2Mtn59DjHwS', choices=[Choice(finish_reason='stop', index=0, logprobs=None, message=ChatCompletionMessage(content='1. Paris, France\\n2. New York City, USA\\n3. Rome, Italy\\n4. Tokyo, Japan\\n', refusal=None, role='assistant', function_call=None, tool_calls=None))], created=1724000461, model='gpt-3.5-turbo-0125', object='chat.completion', service_tier=None, system_fingerprint=None, usage=CompletionUsage(completion_tokens=26, prompt_tokens=17, total_tokens=43))\n"
     ]
    }
   ],
   "source": [
    "print(completion)"
   ]
  },
  {
   "cell_type": "code",
   "execution_count": 19,
   "metadata": {},
   "outputs": [],
   "source": [
    "# Text completion with a chat between the user and assistant and stop before saying another sentence.\n",
    "completion = client.chat.completions.create(\n",
    "  model=\"gpt-3.5-turbo\",\n",
    "  messages=[\n",
    "    { \"role\": \"user\", \"content\": \"User: Hi, how are you?\" },\n",
    "    { \"role\": \"assistant\", \"content\": \"Chatbot: I'm good!\" },\n",
    "    { \"role\": \"user\", \"content\": \"User: Tell me about a time you visited Nepal.\" },\n",
    "    { \"role\": \"assistant\", \"content\": \"Chatbot: When I was 5 years old, I visited Nepal and was in Pokhara.\" },\n",
    "    { \"role\": \"user\", \"content\": \"User: What did you do there?\" },\n",
    "    { \"role\": \"assistant\", \"content\": \"Chatbot: I went to the lake and went trekking with my friends.\" },\n",
    "    { \"role\": \"user\", \"content\": \"User: That sounds fun, how long did it take?\" },\n",
    "  ],\n",
    "  stop=[\".\", \"!\", \"?\"]\n",
    ")"
   ]
  },
  {
   "cell_type": "code",
   "execution_count": 20,
   "metadata": {},
   "outputs": [
    {
     "name": "stdout",
     "output_type": "stream",
     "text": [
      "ChatCompletion(id='chatcmpl-9xdqM4xNIZzsZowSCPZy5onYOnhvr', choices=[Choice(finish_reason='stop', index=0, logprobs=None, message=ChatCompletionMessage(content='Chatbot: We trekked for about 2 hours before heading back to our hotel for the evening', refusal=None, role='assistant', function_call=None, tool_calls=None))], created=1724001538, model='gpt-3.5-turbo-0125', object='chat.completion', service_tier=None, system_fingerprint=None, usage=CompletionUsage(completion_tokens=21, prompt_tokens=114, total_tokens=135))\n"
     ]
    }
   ],
   "source": [
    "print(completion)"
   ]
  },
  {
   "cell_type": "markdown",
   "metadata": {},
   "source": [
    "### Analysis of stop sequencing\n",
    "In the first example, we asked the model to predict the top 10 places to visit, but it stopped right before generating the 5th item because we set the `stop=\"5.\"` in the completions API request.\n",
    "\n",
    "In the second example, we asked the model to explain his trip to Pokhara and stopped it before saying another sentence because we set the `stop=[\".\", \"!\", \"?\"]` in the completions API request."
   ]
  },
  {
   "cell_type": "markdown",
   "metadata": {},
   "source": []
  }
 ],
 "metadata": {
  "kernelspec": {
   "display_name": "Python 3",
   "language": "python",
   "name": "python3"
  },
  "language_info": {
   "codemirror_mode": {
    "name": "ipython",
    "version": 3
   },
   "file_extension": ".py",
   "mimetype": "text/x-python",
   "name": "python",
   "nbconvert_exporter": "python",
   "pygments_lexer": "ipython3",
   "version": "3.12.4"
  }
 },
 "nbformat": 4,
 "nbformat_minor": 2
}
